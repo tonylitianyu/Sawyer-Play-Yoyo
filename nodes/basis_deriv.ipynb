{
 "cells": [
  {
   "cell_type": "code",
   "execution_count": 72,
   "id": "arctic-segment",
   "metadata": {},
   "outputs": [],
   "source": [
    "import numpy as np\n",
    "import sympy as sp\n",
    "from IPython.display import display\n",
    "\n",
    "\n",
    "\n",
    "sp.init_printing(use_latex='mathjax')\n",
    "\n"
   ]
  },
  {
   "cell_type": "code",
   "execution_count": 73,
   "id": "north-weekly",
   "metadata": {},
   "outputs": [
    {
     "name": "stdout",
     "output_type": "stream",
     "text": [
      "[[0 0 0 0]\n",
      " [0 0 0 1]\n",
      " [0 0 0 2]\n",
      " [0 0 1 0]\n",
      " [0 0 1 1]\n",
      " [0 0 2 0]\n",
      " [0 1 0 0]\n",
      " [0 1 0 1]\n",
      " [0 1 1 0]\n",
      " [0 2 0 0]\n",
      " [1 0 0 0]\n",
      " [1 0 0 1]\n",
      " [1 0 1 0]\n",
      " [1 1 0 0]]\n"
     ]
    }
   ],
   "source": [
    "def partition1(max_range, S):\n",
    "    max_range = np.asarray(max_range, dtype = int)\n",
    "    a = np.indices(max_range + 1)\n",
    "    b = a.sum(axis = 0) <= S\n",
    "    return (a[:,b].T)\n",
    "\n",
    "poly_basis = partition1(np.array([1,2,3,4]), 2)\n",
    "print(poly_basis)"
   ]
  },
  {
   "cell_type": "code",
   "execution_count": 84,
   "id": "adolescent-packaging",
   "metadata": {},
   "outputs": [
    {
     "data": {
      "text/latex": [
       "$\\displaystyle \\left[ z, \\  \\dot{z}, \\  \\theta, \\  \\dot{\\theta}\\right]$"
      ],
      "text/plain": [
       "[z, \\dot{z}, \\theta, \\dot{\\theta}]"
      ]
     },
     "metadata": {},
     "output_type": "display_data"
    },
    {
     "data": {
      "text/latex": [
       "$\\displaystyle \\left[\\begin{matrix}z\\\\\\dot{z}\\\\\\theta\\\\\\dot{\\theta}\\\\a\\\\\\dot{\\theta} a\\\\\\dot{\\theta}^{2} a\\\\\\theta a\\\\\\dot{\\theta} \\theta a\\\\\\theta^{2} a\\\\\\dot{z} a\\\\\\dot{\\theta} \\dot{z} a\\\\\\dot{z} \\theta a\\\\\\dot{z}^{2} a\\\\a z\\\\\\dot{\\theta} a z\\\\\\theta a z\\\\\\dot{z} a z\\end{matrix}\\right]$"
      ],
      "text/plain": [
       "⎡          z           ⎤\n",
       "⎢                      ⎥\n",
       "⎢       \\dot{z}        ⎥\n",
       "⎢                      ⎥\n",
       "⎢        \\theta        ⎥\n",
       "⎢                      ⎥\n",
       "⎢     \\dot{\\theta}     ⎥\n",
       "⎢                      ⎥\n",
       "⎢          a           ⎥\n",
       "⎢                      ⎥\n",
       "⎢    \\dot{\\theta}⋅a    ⎥\n",
       "⎢                      ⎥\n",
       "⎢               2      ⎥\n",
       "⎢   \\dot{\\theta} ⋅a    ⎥\n",
       "⎢                      ⎥\n",
       "⎢       \\theta⋅a       ⎥\n",
       "⎢                      ⎥\n",
       "⎢\\dot{\\theta}⋅\\theta⋅a ⎥\n",
       "⎢                      ⎥\n",
       "⎢            2         ⎥\n",
       "⎢      \\theta ⋅a       ⎥\n",
       "⎢                      ⎥\n",
       "⎢      \\dot{z}⋅a       ⎥\n",
       "⎢                      ⎥\n",
       "⎢\\dot{\\theta}⋅\\dot{z}⋅a⎥\n",
       "⎢                      ⎥\n",
       "⎢   \\dot{z}⋅\\theta⋅a   ⎥\n",
       "⎢                      ⎥\n",
       "⎢             2        ⎥\n",
       "⎢      \\dot{z} ⋅a      ⎥\n",
       "⎢                      ⎥\n",
       "⎢         a⋅z          ⎥\n",
       "⎢                      ⎥\n",
       "⎢   \\dot{\\theta}⋅a⋅z   ⎥\n",
       "⎢                      ⎥\n",
       "⎢      \\theta⋅a⋅z      ⎥\n",
       "⎢                      ⎥\n",
       "⎣     \\dot{z}⋅a⋅z      ⎦"
      ]
     },
     "metadata": {},
     "output_type": "display_data"
    },
    {
     "data": {
      "text/latex": [
       "$\\displaystyle \\left[\\begin{matrix}z\\\\\\dot{z}\\\\\\theta\\\\\\dot{\\theta}\\end{matrix}\\right]$"
      ],
      "text/plain": [
       "⎡     z      ⎤\n",
       "⎢            ⎥\n",
       "⎢  \\dot{z}   ⎥\n",
       "⎢            ⎥\n",
       "⎢   \\theta   ⎥\n",
       "⎢            ⎥\n",
       "⎣\\dot{\\theta}⎦"
      ]
     },
     "metadata": {},
     "output_type": "display_data"
    },
    {
     "data": {
      "text/latex": [
       "$\\displaystyle \\left[\\begin{matrix}1 & 0 & 0 & 0\\\\0 & 1 & 0 & 0\\\\0 & 0 & 1 & 0\\\\0 & 0 & 0 & 1\\\\0 & 0 & 0 & 0\\\\0 & 0 & 0 & a\\\\0 & 0 & 0 & 2 \\dot{\\theta} a\\\\0 & 0 & a & 0\\\\0 & 0 & \\dot{\\theta} a & \\theta a\\\\0 & 0 & 2 \\theta a & 0\\\\0 & a & 0 & 0\\\\0 & \\dot{\\theta} a & 0 & \\dot{z} a\\\\0 & \\theta a & \\dot{z} a & 0\\\\0 & 2 \\dot{z} a & 0 & 0\\\\a & 0 & 0 & 0\\\\\\dot{\\theta} a & 0 & 0 & a z\\\\\\theta a & 0 & a z & 0\\\\\\dot{z} a & a z & 0 & 0\\end{matrix}\\right]$"
      ],
      "text/plain": [
       "⎡      1               0               0                0        ⎤\n",
       "⎢                                                                ⎥\n",
       "⎢      0               1               0                0        ⎥\n",
       "⎢                                                                ⎥\n",
       "⎢      0               0               1                0        ⎥\n",
       "⎢                                                                ⎥\n",
       "⎢      0               0               0                1        ⎥\n",
       "⎢                                                                ⎥\n",
       "⎢      0               0               0                0        ⎥\n",
       "⎢                                                                ⎥\n",
       "⎢      0               0               0                a        ⎥\n",
       "⎢                                                                ⎥\n",
       "⎢      0               0               0         2⋅\\dot{\\theta}⋅a⎥\n",
       "⎢                                                                ⎥\n",
       "⎢      0               0               a                0        ⎥\n",
       "⎢                                                                ⎥\n",
       "⎢      0               0         \\dot{\\theta}⋅a      \\theta⋅a    ⎥\n",
       "⎢                                                                ⎥\n",
       "⎢      0               0           2⋅\\theta⋅a           0        ⎥\n",
       "⎢                                                                ⎥\n",
       "⎢      0               a               0                0        ⎥\n",
       "⎢                                                                ⎥\n",
       "⎢      0         \\dot{\\theta}⋅a        0            \\dot{z}⋅a    ⎥\n",
       "⎢                                                                ⎥\n",
       "⎢      0            \\theta⋅a       \\dot{z}⋅a            0        ⎥\n",
       "⎢                                                                ⎥\n",
       "⎢      0          2⋅\\dot{z}⋅a          0                0        ⎥\n",
       "⎢                                                                ⎥\n",
       "⎢      a               0               0                0        ⎥\n",
       "⎢                                                                ⎥\n",
       "⎢\\dot{\\theta}⋅a        0               0               a⋅z       ⎥\n",
       "⎢                                                                ⎥\n",
       "⎢   \\theta⋅a           0              a⋅z               0        ⎥\n",
       "⎢                                                                ⎥\n",
       "⎣  \\dot{z}⋅a          a⋅z              0                0        ⎦"
      ]
     },
     "metadata": {},
     "output_type": "display_data"
    },
    {
     "data": {
      "text/latex": [
       "$\\displaystyle \\left[\\begin{matrix}0\\\\0\\\\0\\\\0\\\\1\\\\\\dot{\\theta}\\\\\\dot{\\theta}^{2}\\\\\\theta\\\\\\dot{\\theta} \\theta\\\\\\theta^{2}\\\\\\dot{z}\\\\\\dot{\\theta} \\dot{z}\\\\\\dot{z} \\theta\\\\\\dot{z}^{2}\\\\z\\\\\\dot{\\theta} z\\\\\\theta z\\\\\\dot{z} z\\end{matrix}\\right]$"
      ],
      "text/plain": [
       "⎡         0          ⎤\n",
       "⎢                    ⎥\n",
       "⎢         0          ⎥\n",
       "⎢                    ⎥\n",
       "⎢         0          ⎥\n",
       "⎢                    ⎥\n",
       "⎢         0          ⎥\n",
       "⎢                    ⎥\n",
       "⎢         1          ⎥\n",
       "⎢                    ⎥\n",
       "⎢    \\dot{\\theta}    ⎥\n",
       "⎢                    ⎥\n",
       "⎢               2    ⎥\n",
       "⎢   \\dot{\\theta}     ⎥\n",
       "⎢                    ⎥\n",
       "⎢       \\theta       ⎥\n",
       "⎢                    ⎥\n",
       "⎢\\dot{\\theta}⋅\\theta ⎥\n",
       "⎢                    ⎥\n",
       "⎢            2       ⎥\n",
       "⎢      \\theta        ⎥\n",
       "⎢                    ⎥\n",
       "⎢      \\dot{z}       ⎥\n",
       "⎢                    ⎥\n",
       "⎢\\dot{\\theta}⋅\\dot{z}⎥\n",
       "⎢                    ⎥\n",
       "⎢   \\dot{z}⋅\\theta   ⎥\n",
       "⎢                    ⎥\n",
       "⎢             2      ⎥\n",
       "⎢      \\dot{z}       ⎥\n",
       "⎢                    ⎥\n",
       "⎢         z          ⎥\n",
       "⎢                    ⎥\n",
       "⎢   \\dot{\\theta}⋅z   ⎥\n",
       "⎢                    ⎥\n",
       "⎢      \\theta⋅z      ⎥\n",
       "⎢                    ⎥\n",
       "⎣     \\dot{z}⋅z      ⎦"
      ]
     },
     "metadata": {},
     "output_type": "display_data"
    }
   ],
   "source": [
    "z = Symbol('z')\n",
    "dz = Symbol('\\dot{z}')\n",
    "rot = Symbol('\\\\theta')\n",
    "drot = Symbol('\\dot{\\\\theta}')\n",
    "action = Symbol('a')\n",
    "\n",
    "state = [z, dz, rot, drot]\n",
    "display(state)\n",
    "\n",
    "extra_basis = np.array([])\n",
    "\n",
    "\n",
    "for p in poly_basis:\n",
    "    curr_basis = (state[0]**p[0]) * (state[1]**p[1]) * (state[2]**p[2]) * (state[3]**p[3]) * action\n",
    "    extra_basis = np.append(extra_basis, curr_basis)\n",
    "    \n",
    "basis = np.hstack((state, extra_basis))\n",
    "\n",
    "\n",
    "\n",
    "basis_sp = sp.Matrix(basis)\n",
    "state_sp = sp.Matrix(state)\n",
    "display(basis_sp)\n",
    "display(state_sp)\n",
    "\n",
    "display(basis_sp.jacobian(state_sp))\n",
    "display(basis_sp.jacobian(sp.Matrix([action])))"
   ]
  },
  {
   "cell_type": "code",
   "execution_count": null,
   "id": "bronze-requirement",
   "metadata": {},
   "outputs": [],
   "source": []
  },
  {
   "cell_type": "code",
   "execution_count": null,
   "id": "apparent-sewing",
   "metadata": {},
   "outputs": [],
   "source": []
  }
 ],
 "metadata": {
  "kernelspec": {
   "display_name": "Python 3",
   "language": "python",
   "name": "python3"
  },
  "language_info": {
   "codemirror_mode": {
    "name": "ipython",
    "version": 3
   },
   "file_extension": ".py",
   "mimetype": "text/x-python",
   "name": "python",
   "nbconvert_exporter": "python",
   "pygments_lexer": "ipython3",
   "version": "3.8.10"
  }
 },
 "nbformat": 4,
 "nbformat_minor": 5
}
