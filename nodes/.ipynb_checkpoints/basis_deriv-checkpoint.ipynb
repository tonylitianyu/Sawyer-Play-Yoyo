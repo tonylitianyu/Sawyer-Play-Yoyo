{
 "cells": [
  {
   "cell_type": "code",
   "execution_count": 1,
   "metadata": {},
   "outputs": [],
   "source": [
    "import numpy as np\n",
    "import sympy as sp\n",
    "from sympy import Symbol\n",
    "from IPython.display import display\n",
    "\n",
    "\n",
    "\n",
    "sp.init_printing(use_latex='mathjax')\n",
    "\n"
   ]
  },
  {
   "cell_type": "code",
   "execution_count": null,
   "metadata": {},
   "outputs": [],
   "source": []
  },
  {
   "cell_type": "code",
   "execution_count": 2,
   "metadata": {},
   "outputs": [
    {
     "data": {
      "text/latex": [
       "$\\displaystyle \\left[ z, \\  zd, \\  thetad, \\  h\\right]$"
      ],
      "text/plain": [
       "[z, zd, thetad, h]"
      ]
     },
     "metadata": {},
     "output_type": "display_data"
    },
    {
     "ename": "TypeError",
     "evalue": "loop of ufunc does not support argument 0 of type Pow which has no callable cos method",
     "output_type": "error",
     "traceback": [
      "\u001b[0;31m---------------------------------------------------------------------------\u001b[0m",
      "\u001b[0;31mAttributeError\u001b[0m                            Traceback (most recent call last)",
      "\u001b[0;31mAttributeError\u001b[0m: 'Pow' object has no attribute 'cos'",
      "\nThe above exception was the direct cause of the following exception:\n",
      "\u001b[0;31mTypeError\u001b[0m                                 Traceback (most recent call last)",
      "\u001b[0;32m<ipython-input-2-e02fd86443a3>\u001b[0m in \u001b[0;36m<module>\u001b[0;34m\u001b[0m\n\u001b[1;32m      8\u001b[0m \u001b[0mdisplay\u001b[0m\u001b[0;34m(\u001b[0m\u001b[0mstate\u001b[0m\u001b[0;34m)\u001b[0m\u001b[0;34m\u001b[0m\u001b[0;34m\u001b[0m\u001b[0m\n\u001b[1;32m      9\u001b[0m \u001b[0;34m\u001b[0m\u001b[0m\n\u001b[0;32m---> 10\u001b[0;31m \u001b[0mextra_basis\u001b[0m \u001b[0;34m=\u001b[0m \u001b[0mnp\u001b[0m\u001b[0;34m.\u001b[0m\u001b[0marray\u001b[0m\u001b[0;34m(\u001b[0m\u001b[0;34m[\u001b[0m\u001b[0mnp\u001b[0m\u001b[0;34m.\u001b[0m\u001b[0mcos\u001b[0m\u001b[0;34m(\u001b[0m\u001b[0mstate\u001b[0m\u001b[0;34m[\u001b[0m\u001b[0;36m0\u001b[0m\u001b[0;34m]\u001b[0m\u001b[0;34m**\u001b[0m\u001b[0;36m2\u001b[0m\u001b[0;34m)\u001b[0m\u001b[0;34m,\u001b[0m \u001b[0maction\u001b[0m\u001b[0;34m]\u001b[0m\u001b[0;34m)\u001b[0m\u001b[0;34m\u001b[0m\u001b[0;34m\u001b[0m\u001b[0m\n\u001b[0m\u001b[1;32m     11\u001b[0m \u001b[0;34m\u001b[0m\u001b[0m\n\u001b[1;32m     12\u001b[0m \u001b[0;34m\u001b[0m\u001b[0m\n",
      "\u001b[0;31mTypeError\u001b[0m: loop of ufunc does not support argument 0 of type Pow which has no callable cos method"
     ]
    }
   ],
   "source": [
    "z = Symbol('z')\n",
    "dz = Symbol('zd')\n",
    "rot = Symbol('thetad')\n",
    "drot = Symbol('h')\n",
    "action = Symbol('a')\n",
    "\n",
    "state = [z, dz, rot, drot]\n",
    "display(state)\n",
    "\n",
    "extra_basis = np.array([sp.cos(state[0]**2), action])\n",
    "\n",
    "\n",
    "    \n",
    "basis = np.hstack((state, extra_basis))\n",
    "\n",
    "\n",
    "\n",
    "basis_sp = sp.Matrix(basis)\n",
    "state_sp = sp.Matrix(state)\n",
    "display(basis_sp)\n",
    "display(state_sp)\n",
    "\n",
    "dbasis_dx = basis_sp.jacobian(state_sp)\n",
    "display(dbasis_dx)\n",
    "\n",
    "dbasis_du = basis_sp.jacobian(sp.Matrix([action]))\n",
    "display(dbasis_du)"
   ]
  },
  {
   "cell_type": "code",
   "execution_count": null,
   "metadata": {},
   "outputs": [],
   "source": [
    "from sympy.printing import ccode\n",
    "def cpp_generator(mat, name, label):\n",
    "    update_cpp = '\\nvoid {0}::{1}_update()'.format(label, name) + '{'\n",
    "    for n in range(mat.shape[1]):\n",
    "        for m in range(mat.shape[0]):\n",
    "            expr = mat[m, n]\n",
    "            symbs = expr.free_symbols\n",
    "            c = ccode(expr)\n",
    "            update_cpp += '\\n{0}({1}, {2}) = {3};'.format(name, m, n, c)\n",
    "    update_cpp += '\\n};'\n",
    "    return update_cpp"
   ]
  },
  {
   "cell_type": "code",
   "execution_count": null,
   "metadata": {},
   "outputs": [],
   "source": [
    "\n",
    "mat = basis_sp\n",
    "name = 'extra_basis'\n",
    "code = cpp_generator(mat, name, name)    # Print C++ code\n",
    "print(code)"
   ]
  },
  {
   "cell_type": "code",
   "execution_count": null,
   "metadata": {},
   "outputs": [],
   "source": [
    "mat = dbasis_dx\n",
    "name = 'dbdx'\n",
    "code = cpp_generator(mat, name, name)    # Print C++ code\n",
    "print(code)"
   ]
  },
  {
   "cell_type": "code",
   "execution_count": null,
   "metadata": {},
   "outputs": [],
   "source": [
    "mat = dbasis_du\n",
    "name = 'dbdu'\n",
    "code = cpp_generator(mat, name, name)    # Print C++ code\n",
    "print(code)"
   ]
  }
 ],
 "metadata": {
  "kernelspec": {
   "display_name": "Python 3",
   "language": "python",
   "name": "python3"
  },
  "language_info": {
   "codemirror_mode": {
    "name": "ipython",
    "version": 3
   },
   "file_extension": ".py",
   "mimetype": "text/x-python",
   "name": "python",
   "nbconvert_exporter": "python",
   "pygments_lexer": "ipython3",
   "version": "3.8.10"
  }
 },
 "nbformat": 4,
 "nbformat_minor": 5
}
