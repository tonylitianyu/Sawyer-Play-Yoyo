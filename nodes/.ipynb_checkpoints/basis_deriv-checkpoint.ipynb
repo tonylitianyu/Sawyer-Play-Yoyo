{
 "cells": [
  {
   "cell_type": "code",
   "execution_count": 3,
   "metadata": {},
   "outputs": [],
   "source": [
    "import numpy as np\n",
    "import sympy as sp\n",
    "from sympy import Symbol\n",
    "from IPython.display import display\n",
    "\n",
    "\n",
    "\n",
    "sp.init_printing(use_latex='mathjax')\n",
    "\n"
   ]
  },
  {
   "cell_type": "code",
   "execution_count": null,
   "metadata": {},
   "outputs": [],
   "source": []
  },
  {
   "cell_type": "code",
   "execution_count": 4,
   "metadata": {},
   "outputs": [
    {
     "data": {
      "text/latex": [
       "$\\displaystyle \\left[ z, \\  zd, \\  thetad, \\  h\\right]$"
      ],
      "text/plain": [
       "[z, zd, thetad, h]"
      ]
     },
     "metadata": {},
     "output_type": "display_data"
    },
    {
     "data": {
      "text/latex": [
       "$\\displaystyle \\left[\\begin{matrix}z\\\\zd\\\\thetad\\\\h\\\\\\cos{\\left(z^{2} \\right)}\\\\a\\end{matrix}\\right]$"
      ],
      "text/plain": [
       "⎡   z   ⎤\n",
       "⎢       ⎥\n",
       "⎢  zd   ⎥\n",
       "⎢       ⎥\n",
       "⎢thetad ⎥\n",
       "⎢       ⎥\n",
       "⎢   h   ⎥\n",
       "⎢       ⎥\n",
       "⎢   ⎛ 2⎞⎥\n",
       "⎢cos⎝z ⎠⎥\n",
       "⎢       ⎥\n",
       "⎣   a   ⎦"
      ]
     },
     "metadata": {},
     "output_type": "display_data"
    },
    {
     "data": {
      "text/latex": [
       "$\\displaystyle \\left[\\begin{matrix}z\\\\zd\\\\thetad\\\\h\\end{matrix}\\right]$"
      ],
      "text/plain": [
       "⎡  z   ⎤\n",
       "⎢      ⎥\n",
       "⎢  zd  ⎥\n",
       "⎢      ⎥\n",
       "⎢thetad⎥\n",
       "⎢      ⎥\n",
       "⎣  h   ⎦"
      ]
     },
     "metadata": {},
     "output_type": "display_data"
    },
    {
     "data": {
      "text/latex": [
       "$\\displaystyle \\left[\\begin{matrix}1 & 0 & 0 & 0\\\\0 & 1 & 0 & 0\\\\0 & 0 & 1 & 0\\\\0 & 0 & 0 & 1\\\\- 2 z \\sin{\\left(z^{2} \\right)} & 0 & 0 & 0\\\\0 & 0 & 0 & 0\\end{matrix}\\right]$"
      ],
      "text/plain": [
       "⎡     1        0  0  0⎤\n",
       "⎢                     ⎥\n",
       "⎢     0        1  0  0⎥\n",
       "⎢                     ⎥\n",
       "⎢     0        0  1  0⎥\n",
       "⎢                     ⎥\n",
       "⎢     0        0  0  1⎥\n",
       "⎢                     ⎥\n",
       "⎢        ⎛ 2⎞         ⎥\n",
       "⎢-2⋅z⋅sin⎝z ⎠  0  0  0⎥\n",
       "⎢                     ⎥\n",
       "⎣     0        0  0  0⎦"
      ]
     },
     "metadata": {},
     "output_type": "display_data"
    },
    {
     "data": {
      "text/latex": [
       "$\\displaystyle \\left[\\begin{matrix}0\\\\0\\\\0\\\\0\\\\0\\\\1\\end{matrix}\\right]$"
      ],
      "text/plain": [
       "⎡0⎤\n",
       "⎢ ⎥\n",
       "⎢0⎥\n",
       "⎢ ⎥\n",
       "⎢0⎥\n",
       "⎢ ⎥\n",
       "⎢0⎥\n",
       "⎢ ⎥\n",
       "⎢0⎥\n",
       "⎢ ⎥\n",
       "⎣1⎦"
      ]
     },
     "metadata": {},
     "output_type": "display_data"
    }
   ],
   "source": [
    "z = Symbol('z')\n",
    "dz = Symbol('zd')\n",
    "robot_h = Symbol('h')\n",
    "action = Symbol('a')\n",
    "\n",
    "state = [z, dz, robot_h]\n",
    "display(state)\n",
    "\n",
    "extra_basis = np.array([sp.sin(state[0]**2), 1, action])\n",
    "\n",
    "\n",
    "    \n",
    "basis = np.hstack((state, extra_basis))\n",
    "\n",
    "\n",
    "\n",
    "basis_sp = sp.Matrix(basis)\n",
    "state_sp = sp.Matrix(state)\n",
    "display(basis_sp)\n",
    "display(state_sp)\n",
    "\n",
    "dbasis_dx = basis_sp.jacobian(state_sp)\n",
    "display(dbasis_dx)\n",
    "\n",
    "dbasis_du = basis_sp.jacobian(sp.Matrix([action]))\n",
    "display(dbasis_du)"
   ]
  },
  {
   "cell_type": "code",
   "execution_count": 5,
   "metadata": {},
   "outputs": [],
   "source": [
    "from sympy.printing import ccode\n",
    "def cpp_generator(mat, name, label):\n",
    "    update_cpp = '\\nvoid {0}::{1}_update()'.format(label, name) + '{'\n",
    "    for n in range(mat.shape[1]):\n",
    "        for m in range(mat.shape[0]):\n",
    "            expr = mat[m, n]\n",
    "            symbs = expr.free_symbols\n",
    "            c = ccode(expr)\n",
    "            update_cpp += '\\n{0}({1}, {2}) = {3};'.format(name, m, n, c)\n",
    "    update_cpp += '\\n};'\n",
    "    return update_cpp"
   ]
  },
  {
   "cell_type": "code",
   "execution_count": 6,
   "metadata": {},
   "outputs": [
    {
     "name": "stdout",
     "output_type": "stream",
     "text": [
      "\n",
      "void extra_basis::extra_basis_update(){\n",
      "extra_basis(0, 0) = z;\n",
      "extra_basis(1, 0) = zd;\n",
      "extra_basis(2, 0) = thetad;\n",
      "extra_basis(3, 0) = h;\n",
      "extra_basis(4, 0) = cos(pow(z, 2));\n",
      "extra_basis(5, 0) = a;\n",
      "};\n"
     ]
    }
   ],
   "source": [
    "\n",
    "mat = basis_sp\n",
    "name = 'extra_basis'\n",
    "code = cpp_generator(mat, name, name)    # Print C++ code\n",
    "print(code)"
   ]
  },
  {
   "cell_type": "code",
   "execution_count": 7,
   "metadata": {},
   "outputs": [
    {
     "name": "stdout",
     "output_type": "stream",
     "text": [
      "\n",
      "void dbdx::dbdx_update(){\n",
      "dbdx(0, 0) = 1;\n",
      "dbdx(1, 0) = 0;\n",
      "dbdx(2, 0) = 0;\n",
      "dbdx(3, 0) = 0;\n",
      "dbdx(4, 0) = -2*z*sin(pow(z, 2));\n",
      "dbdx(5, 0) = 0;\n",
      "dbdx(0, 1) = 0;\n",
      "dbdx(1, 1) = 1;\n",
      "dbdx(2, 1) = 0;\n",
      "dbdx(3, 1) = 0;\n",
      "dbdx(4, 1) = 0;\n",
      "dbdx(5, 1) = 0;\n",
      "dbdx(0, 2) = 0;\n",
      "dbdx(1, 2) = 0;\n",
      "dbdx(2, 2) = 1;\n",
      "dbdx(3, 2) = 0;\n",
      "dbdx(4, 2) = 0;\n",
      "dbdx(5, 2) = 0;\n",
      "dbdx(0, 3) = 0;\n",
      "dbdx(1, 3) = 0;\n",
      "dbdx(2, 3) = 0;\n",
      "dbdx(3, 3) = 1;\n",
      "dbdx(4, 3) = 0;\n",
      "dbdx(5, 3) = 0;\n",
      "};\n"
     ]
    }
   ],
   "source": [
    "mat = dbasis_dx\n",
    "name = 'dbdx'\n",
    "code = cpp_generator(mat, name, name)    # Print C++ code\n",
    "print(code)"
   ]
  },
  {
   "cell_type": "code",
   "execution_count": 8,
   "metadata": {},
   "outputs": [
    {
     "name": "stdout",
     "output_type": "stream",
     "text": [
      "\n",
      "void dbdu::dbdu_update(){\n",
      "dbdu(0, 0) = 0;\n",
      "dbdu(1, 0) = 0;\n",
      "dbdu(2, 0) = 0;\n",
      "dbdu(3, 0) = 0;\n",
      "dbdu(4, 0) = 0;\n",
      "dbdu(5, 0) = 1;\n",
      "};\n"
     ]
    }
   ],
   "source": [
    "mat = dbasis_du\n",
    "name = 'dbdu'\n",
    "code = cpp_generator(mat, name, name)    # Print C++ code\n",
    "print(code)"
   ]
  }
 ],
 "metadata": {
  "kernelspec": {
   "display_name": "Python 3",
   "language": "python",
   "name": "python3"
  },
  "language_info": {
   "codemirror_mode": {
    "name": "ipython",
    "version": 3
   },
   "file_extension": ".py",
   "mimetype": "text/x-python",
   "name": "python",
   "nbconvert_exporter": "python",
   "pygments_lexer": "ipython3",
   "version": "3.8.10"
  }
 },
 "nbformat": 4,
 "nbformat_minor": 5
}
