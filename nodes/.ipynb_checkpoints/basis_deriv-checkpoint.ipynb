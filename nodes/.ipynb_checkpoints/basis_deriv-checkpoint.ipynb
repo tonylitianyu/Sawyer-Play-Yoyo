{
 "cells": [
  {
   "cell_type": "code",
   "execution_count": 72,
   "id": "fatty-heavy",
   "metadata": {},
   "outputs": [],
   "source": [
    "import numpy as np\n",
    "import sympy as sp\n",
    "from IPython.display import display\n",
    "\n",
    "\n",
    "\n",
    "sp.init_printing(use_latex='mathjax')\n",
    "\n"
   ]
  },
  {
   "cell_type": "code",
   "execution_count": 73,
   "id": "seven-visit",
   "metadata": {},
   "outputs": [
    {
     "name": "stdout",
     "output_type": "stream",
     "text": [
      "[[0 0 0 0]\n",
      " [0 0 0 1]\n",
      " [0 0 0 2]\n",
      " [0 0 1 0]\n",
      " [0 0 1 1]\n",
      " [0 0 2 0]\n",
      " [0 1 0 0]\n",
      " [0 1 0 1]\n",
      " [0 1 1 0]\n",
      " [0 2 0 0]\n",
      " [1 0 0 0]\n",
      " [1 0 0 1]\n",
      " [1 0 1 0]\n",
      " [1 1 0 0]]\n"
     ]
    }
   ],
   "source": [
    "def partition1(max_range, S):\n",
    "    max_range = np.asarray(max_range, dtype = int)\n",
    "    a = np.indices(max_range + 1)\n",
    "    b = a.sum(axis = 0) <= S\n",
    "    return (a[:,b].T)\n",
    "\n",
    "poly_basis = partition1(np.array([1,2,3,4]), 2)\n",
    "print(poly_basis)"
   ]
  },
  {
   "cell_type": "code",
   "execution_count": 83,
   "id": "adult-delivery",
   "metadata": {},
   "outputs": [
    {
     "data": {
      "text/latex": [
       "$\\displaystyle \\left[ z, \\  \\dot{z}, \\  \\theta, \\  \\dot{\\theta}\\right]$"
      ],
      "text/plain": [
       "[z, \\dot{z}, \\theta, \\dot{\\theta}]"
      ]
     },
     "metadata": {},
     "output_type": "display_data"
    },
    {
     "data": {
      "text/latex": [
       "$\\displaystyle \\left[\\begin{matrix}z\\\\\\dot{z}\\\\\\theta\\\\\\dot{\\theta}\\\\a\\\\\\dot{\\theta} a\\\\\\dot{\\theta}^{2} a\\\\\\theta a\\\\\\dot{\\theta} \\theta a\\\\\\theta^{2} a\\\\\\dot{z} a\\\\\\dot{\\theta} \\dot{z} a\\\\\\dot{z} \\theta a\\\\\\dot{z}^{2} a\\\\a z\\\\\\dot{\\theta} a z\\\\\\theta a z\\\\\\dot{z} a z\\end{matrix}\\right]$"
      ],
      "text/plain": [
       "⎡          z           ⎤\n",
       "⎢                      ⎥\n",
       "⎢       \\dot{z}        ⎥\n",
       "⎢                      ⎥\n",
       "⎢        \\theta        ⎥\n",
       "⎢                      ⎥\n",
       "⎢     \\dot{\\theta}     ⎥\n",
       "⎢                      ⎥\n",
       "⎢          a           ⎥\n",
       "⎢                      ⎥\n",
       "⎢    \\dot{\\theta}⋅a    ⎥\n",
       "⎢                      ⎥\n",
       "⎢               2      ⎥\n",
       "⎢   \\dot{\\theta} ⋅a    ⎥\n",
       "⎢                      ⎥\n",
       "⎢       \\theta⋅a       ⎥\n",
       "⎢                      ⎥\n",
       "⎢\\dot{\\theta}⋅\\theta⋅a ⎥\n",
       "⎢                      ⎥\n",
       "⎢            2         ⎥\n",
       "⎢      \\theta ⋅a       ⎥\n",
       "⎢                      ⎥\n",
       "⎢      \\dot{z}⋅a       ⎥\n",
       "⎢                      ⎥\n",
       "⎢\\dot{\\theta}⋅\\dot{z}⋅a⎥\n",
       "⎢                      ⎥\n",
       "⎢   \\dot{z}⋅\\theta⋅a   ⎥\n",
       "⎢                      ⎥\n",
       "⎢             2        ⎥\n",
       "⎢      \\dot{z} ⋅a      ⎥\n",
       "⎢                      ⎥\n",
       "⎢         a⋅z          ⎥\n",
       "⎢                      ⎥\n",
       "⎢   \\dot{\\theta}⋅a⋅z   ⎥\n",
       "⎢                      ⎥\n",
       "⎢      \\theta⋅a⋅z      ⎥\n",
       "⎢                      ⎥\n",
       "⎣     \\dot{z}⋅a⋅z      ⎦"
      ]
     },
     "metadata": {},
     "output_type": "display_data"
    },
    {
     "data": {
      "text/latex": [
       "$\\displaystyle \\left[\\begin{matrix}z\\\\\\dot{z}\\\\\\theta\\\\\\dot{\\theta}\\end{matrix}\\right]$"
      ],
      "text/plain": [
       "⎡     z      ⎤\n",
       "⎢            ⎥\n",
       "⎢  \\dot{z}   ⎥\n",
       "⎢            ⎥\n",
       "⎢   \\theta   ⎥\n",
       "⎢            ⎥\n",
       "⎣\\dot{\\theta}⎦"
      ]
     },
     "metadata": {},
     "output_type": "display_data"
    },
    {
     "data": {
      "text/latex": [
       "$\\displaystyle \\left[\\begin{matrix}1 & 0 & 0 & 0\\\\0 & 1 & 0 & 0\\\\0 & 0 & 1 & 0\\\\0 & 0 & 0 & 1\\\\0 & 0 & 0 & 0\\\\0 & 0 & 0 & a\\\\0 & 0 & 0 & 2 \\dot{\\theta} a\\\\0 & 0 & a & 0\\\\0 & 0 & \\dot{\\theta} a & \\theta a\\\\0 & 0 & 2 \\theta a & 0\\\\0 & a & 0 & 0\\\\0 & \\dot{\\theta} a & 0 & \\dot{z} a\\\\0 & \\theta a & \\dot{z} a & 0\\\\0 & 2 \\dot{z} a & 0 & 0\\\\a & 0 & 0 & 0\\\\\\dot{\\theta} a & 0 & 0 & a z\\\\\\theta a & 0 & a z & 0\\\\\\dot{z} a & a z & 0 & 0\\end{matrix}\\right]$"
      ],
      "text/plain": [
       "⎡      1               0               0                0        ⎤\n",
       "⎢                                                                ⎥\n",
       "⎢      0               1               0                0        ⎥\n",
       "⎢                                                                ⎥\n",
       "⎢      0               0               1                0        ⎥\n",
       "⎢                                                                ⎥\n",
       "⎢      0               0               0                1        ⎥\n",
       "⎢                                                                ⎥\n",
       "⎢      0               0               0                0        ⎥\n",
       "⎢                                                                ⎥\n",
       "⎢      0               0               0                a        ⎥\n",
       "⎢                                                                ⎥\n",
       "⎢      0               0               0         2⋅\\dot{\\theta}⋅a⎥\n",
       "⎢                                                                ⎥\n",
       "⎢      0               0               a                0        ⎥\n",
       "⎢                                                                ⎥\n",
       "⎢      0               0         \\dot{\\theta}⋅a      \\theta⋅a    ⎥\n",
       "⎢                                                                ⎥\n",
       "⎢      0               0           2⋅\\theta⋅a           0        ⎥\n",
       "⎢                                                                ⎥\n",
       "⎢      0               a               0                0        ⎥\n",
       "⎢                                                                ⎥\n",
       "⎢      0         \\dot{\\theta}⋅a        0            \\dot{z}⋅a    ⎥\n",
       "⎢                                                                ⎥\n",
       "⎢      0            \\theta⋅a       \\dot{z}⋅a            0        ⎥\n",
       "⎢                                                                ⎥\n",
       "⎢      0          2⋅\\dot{z}⋅a          0                0        ⎥\n",
       "⎢                                                                ⎥\n",
       "⎢      a               0               0                0        ⎥\n",
       "⎢                                                                ⎥\n",
       "⎢\\dot{\\theta}⋅a        0               0               a⋅z       ⎥\n",
       "⎢                                                                ⎥\n",
       "⎢   \\theta⋅a           0              a⋅z               0        ⎥\n",
       "⎢                                                                ⎥\n",
       "⎣  \\dot{z}⋅a          a⋅z              0                0        ⎦"
      ]
     },
     "metadata": {},
     "output_type": "display_data"
    },
    {
     "ename": "TypeError",
     "evalue": "\nData type not understood; expecting list of lists or lists of values.",
     "output_type": "error",
     "traceback": [
      "\u001b[0;31m---------------------------------------------------------------------------\u001b[0m",
      "\u001b[0;31mTypeError\u001b[0m                                 Traceback (most recent call last)",
      "\u001b[0;32m<ipython-input-83-e01f6cced1a6>\u001b[0m in \u001b[0;36m<module>\u001b[0;34m\u001b[0m\n\u001b[1;32m     25\u001b[0m \u001b[0;34m\u001b[0m\u001b[0m\n\u001b[1;32m     26\u001b[0m \u001b[0mdisplay\u001b[0m\u001b[0;34m(\u001b[0m\u001b[0mbasis_sp\u001b[0m\u001b[0;34m.\u001b[0m\u001b[0mjacobian\u001b[0m\u001b[0;34m(\u001b[0m\u001b[0mstate_sp\u001b[0m\u001b[0;34m)\u001b[0m\u001b[0;34m)\u001b[0m\u001b[0;34m\u001b[0m\u001b[0;34m\u001b[0m\u001b[0m\n\u001b[0;32m---> 27\u001b[0;31m \u001b[0mdisplay\u001b[0m\u001b[0;34m(\u001b[0m\u001b[0mbasis_sp\u001b[0m\u001b[0;34m.\u001b[0m\u001b[0mjacobian\u001b[0m\u001b[0;34m(\u001b[0m\u001b[0msp\u001b[0m\u001b[0;34m.\u001b[0m\u001b[0mMatrix\u001b[0m\u001b[0;34m(\u001b[0m\u001b[0maction\u001b[0m\u001b[0;34m)\u001b[0m\u001b[0;34m)\u001b[0m\u001b[0;34m)\u001b[0m\u001b[0;34m\u001b[0m\u001b[0;34m\u001b[0m\u001b[0m\n\u001b[0m",
      "\u001b[0;32m~/.local/lib/python3.8/site-packages/sympy/matrices/dense.py\u001b[0m in \u001b[0;36m__new__\u001b[0;34m(cls, *args, **kwargs)\u001b[0m\n\u001b[1;32m    297\u001b[0m \u001b[0;34m\u001b[0m\u001b[0m\n\u001b[1;32m    298\u001b[0m     \u001b[0;32mdef\u001b[0m \u001b[0m__new__\u001b[0m\u001b[0;34m(\u001b[0m\u001b[0mcls\u001b[0m\u001b[0;34m,\u001b[0m \u001b[0;34m*\u001b[0m\u001b[0margs\u001b[0m\u001b[0;34m,\u001b[0m \u001b[0;34m**\u001b[0m\u001b[0mkwargs\u001b[0m\u001b[0;34m)\u001b[0m\u001b[0;34m:\u001b[0m\u001b[0;34m\u001b[0m\u001b[0;34m\u001b[0m\u001b[0m\n\u001b[0;32m--> 299\u001b[0;31m         \u001b[0;32mreturn\u001b[0m \u001b[0mcls\u001b[0m\u001b[0;34m.\u001b[0m\u001b[0m_new\u001b[0m\u001b[0;34m(\u001b[0m\u001b[0;34m*\u001b[0m\u001b[0margs\u001b[0m\u001b[0;34m,\u001b[0m \u001b[0;34m**\u001b[0m\u001b[0mkwargs\u001b[0m\u001b[0;34m)\u001b[0m\u001b[0;34m\u001b[0m\u001b[0;34m\u001b[0m\u001b[0m\n\u001b[0m\u001b[1;32m    300\u001b[0m \u001b[0;34m\u001b[0m\u001b[0m\n\u001b[1;32m    301\u001b[0m     \u001b[0;34m@\u001b[0m\u001b[0mclassmethod\u001b[0m\u001b[0;34m\u001b[0m\u001b[0;34m\u001b[0m\u001b[0m\n",
      "\u001b[0;32m~/.local/lib/python3.8/site-packages/sympy/matrices/dense.py\u001b[0m in \u001b[0;36m_new\u001b[0;34m(cls, copy, *args, **kwargs)\u001b[0m\n\u001b[1;32m    308\u001b[0m             \u001b[0mrows\u001b[0m\u001b[0;34m,\u001b[0m \u001b[0mcols\u001b[0m\u001b[0;34m,\u001b[0m \u001b[0mflat_list\u001b[0m \u001b[0;34m=\u001b[0m \u001b[0margs\u001b[0m\u001b[0;34m\u001b[0m\u001b[0;34m\u001b[0m\u001b[0m\n\u001b[1;32m    309\u001b[0m         \u001b[0;32melse\u001b[0m\u001b[0;34m:\u001b[0m\u001b[0;34m\u001b[0m\u001b[0;34m\u001b[0m\u001b[0m\n\u001b[0;32m--> 310\u001b[0;31m             \u001b[0mrows\u001b[0m\u001b[0;34m,\u001b[0m \u001b[0mcols\u001b[0m\u001b[0;34m,\u001b[0m \u001b[0mflat_list\u001b[0m \u001b[0;34m=\u001b[0m \u001b[0mcls\u001b[0m\u001b[0;34m.\u001b[0m\u001b[0m_handle_creation_inputs\u001b[0m\u001b[0;34m(\u001b[0m\u001b[0;34m*\u001b[0m\u001b[0margs\u001b[0m\u001b[0;34m,\u001b[0m \u001b[0;34m**\u001b[0m\u001b[0mkwargs\u001b[0m\u001b[0;34m)\u001b[0m\u001b[0;34m\u001b[0m\u001b[0;34m\u001b[0m\u001b[0m\n\u001b[0m\u001b[1;32m    311\u001b[0m             \u001b[0mflat_list\u001b[0m \u001b[0;34m=\u001b[0m \u001b[0mlist\u001b[0m\u001b[0;34m(\u001b[0m\u001b[0mflat_list\u001b[0m\u001b[0;34m)\u001b[0m \u001b[0;31m# create a shallow copy\u001b[0m\u001b[0;34m\u001b[0m\u001b[0;34m\u001b[0m\u001b[0m\n\u001b[1;32m    312\u001b[0m         \u001b[0mself\u001b[0m \u001b[0;34m=\u001b[0m \u001b[0mobject\u001b[0m\u001b[0;34m.\u001b[0m\u001b[0m__new__\u001b[0m\u001b[0;34m(\u001b[0m\u001b[0mcls\u001b[0m\u001b[0;34m)\u001b[0m\u001b[0;34m\u001b[0m\u001b[0;34m\u001b[0m\u001b[0m\n",
      "\u001b[0;32m~/.local/lib/python3.8/site-packages/sympy/matrices/matrices.py\u001b[0m in \u001b[0;36m_handle_creation_inputs\u001b[0;34m(cls, *args, **kwargs)\u001b[0m\n\u001b[1;32m   1119\u001b[0m \u001b[0;34m\u001b[0m\u001b[0m\n\u001b[1;32m   1120\u001b[0m         \u001b[0;32mif\u001b[0m \u001b[0mflat_list\u001b[0m \u001b[0;32mis\u001b[0m \u001b[0;32mNone\u001b[0m\u001b[0;34m:\u001b[0m\u001b[0;34m\u001b[0m\u001b[0;34m\u001b[0m\u001b[0m\n\u001b[0;32m-> 1121\u001b[0;31m             raise TypeError(filldedent('''\n\u001b[0m\u001b[1;32m   1122\u001b[0m                 \u001b[0mData\u001b[0m \u001b[0mtype\u001b[0m \u001b[0;32mnot\u001b[0m \u001b[0munderstood\u001b[0m\u001b[0;34m;\u001b[0m \u001b[0mexpecting\u001b[0m \u001b[0mlist\u001b[0m \u001b[0mof\u001b[0m \u001b[0mlists\u001b[0m\u001b[0;34m\u001b[0m\u001b[0;34m\u001b[0m\u001b[0m\n\u001b[1;32m   1123\u001b[0m                 or lists of values.'''))\n",
      "\u001b[0;31mTypeError\u001b[0m: \nData type not understood; expecting list of lists or lists of values."
     ]
    }
   ],
   "source": [
    "z = Symbol('z')\n",
    "dz = Symbol('\\dot{z}')\n",
    "rot = Symbol('\\\\theta')\n",
    "drot = Symbol('\\dot{\\\\theta}')\n",
    "action = Symbol('a')\n",
    "\n",
    "state = [z, dz, rot, drot]\n",
    "display(state)\n",
    "\n",
    "extra_basis = np.array([])\n",
    "\n",
    "\n",
    "for p in poly_basis:\n",
    "    curr_basis = (state[0]**p[0]) * (state[1]**p[1]) * (state[2]**p[2]) * (state[3]**p[3]) * action\n",
    "    extra_basis = np.append(extra_basis, curr_basis)\n",
    "    \n",
    "basis = np.hstack((state, extra_basis))\n",
    "\n",
    "\n",
    "\n",
    "basis_sp = sp.Matrix(basis)\n",
    "state_sp = sp.Matrix(state)\n",
    "display(basis_sp)\n",
    "display(state_sp)\n",
    "\n",
    "display(basis_sp.jacobian(state_sp))\n",
    "display(basis_sp.jacobian(sp.Matrix([action])))"
   ]
  },
  {
   "cell_type": "code",
   "execution_count": null,
   "id": "young-check",
   "metadata": {},
   "outputs": [],
   "source": []
  },
  {
   "cell_type": "code",
   "execution_count": null,
   "id": "moral-caribbean",
   "metadata": {},
   "outputs": [],
   "source": []
  }
 ],
 "metadata": {
  "kernelspec": {
   "display_name": "Python 3",
   "language": "python",
   "name": "python3"
  },
  "language_info": {
   "codemirror_mode": {
    "name": "ipython",
    "version": 3
   },
   "file_extension": ".py",
   "mimetype": "text/x-python",
   "name": "python",
   "nbconvert_exporter": "python",
   "pygments_lexer": "ipython3",
   "version": "3.8.10"
  }
 },
 "nbformat": 4,
 "nbformat_minor": 5
}
