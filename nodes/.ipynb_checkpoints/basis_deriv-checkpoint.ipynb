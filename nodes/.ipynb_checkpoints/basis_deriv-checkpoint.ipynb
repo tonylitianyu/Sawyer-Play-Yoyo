{
 "cells": [
  {
   "cell_type": "code",
   "execution_count": 50,
   "metadata": {},
   "outputs": [],
   "source": [
    "import numpy as np\n",
    "import sympy as sp\n",
    "from sympy import Symbol\n",
    "from IPython.display import display\n",
    "\n",
    "\n",
    "\n",
    "sp.init_printing(use_latex='mathjax')\n",
    "\n"
   ]
  },
  {
   "cell_type": "code",
   "execution_count": 51,
   "metadata": {},
   "outputs": [
    {
     "name": "stdout",
     "output_type": "stream",
     "text": [
      "[[0 0 0 0]\n",
      " [0 0 0 1]\n",
      " [0 0 0 2]\n",
      " [0 0 1 0]\n",
      " [0 0 1 1]\n",
      " [0 0 2 0]\n",
      " [0 1 0 0]\n",
      " [0 1 0 1]\n",
      " [0 1 1 0]\n",
      " [0 2 0 0]\n",
      " [1 0 0 0]\n",
      " [1 0 0 1]\n",
      " [1 0 1 0]\n",
      " [1 1 0 0]]\n"
     ]
    }
   ],
   "source": [
    "def partition1(max_range, S):\n",
    "    max_range = np.asarray(max_range, dtype = int)\n",
    "    a = np.indices(max_range + 1)\n",
    "    b = a.sum(axis = 0) <= S\n",
    "    return (a[:,b].T)\n",
    "\n",
    "poly_basis = partition1(np.array([1,2,3,4]), 2)\n",
    "print(poly_basis)"
   ]
  },
  {
   "cell_type": "code",
   "execution_count": 52,
   "metadata": {},
   "outputs": [
    {
     "data": {
      "text/latex": [
       "$\\displaystyle \\left[ z, \\  zd, \\  thetad, \\  h\\right]$"
      ],
      "text/plain": [
       "[z, zd, thetad, h]"
      ]
     },
     "metadata": {},
     "output_type": "display_data"
    },
    {
     "data": {
      "text/latex": [
       "$\\displaystyle \\left[\\begin{matrix}z\\\\zd\\\\thetad\\\\h\\\\a\\\\a h\\\\a h^{2}\\\\a thetad\\\\a h thetad\\\\a thetad^{2}\\\\a zd\\\\a h zd\\\\a thetad zd\\\\a zd^{2}\\\\a z\\\\a h z\\\\a thetad z\\\\a z zd\\end{matrix}\\right]$"
      ],
      "text/plain": [
       "⎡     z     ⎤\n",
       "⎢           ⎥\n",
       "⎢    zd     ⎥\n",
       "⎢           ⎥\n",
       "⎢  thetad   ⎥\n",
       "⎢           ⎥\n",
       "⎢     h     ⎥\n",
       "⎢           ⎥\n",
       "⎢     a     ⎥\n",
       "⎢           ⎥\n",
       "⎢    a⋅h    ⎥\n",
       "⎢           ⎥\n",
       "⎢      2    ⎥\n",
       "⎢   a⋅h     ⎥\n",
       "⎢           ⎥\n",
       "⎢ a⋅thetad  ⎥\n",
       "⎢           ⎥\n",
       "⎢a⋅h⋅thetad ⎥\n",
       "⎢           ⎥\n",
       "⎢         2 ⎥\n",
       "⎢ a⋅thetad  ⎥\n",
       "⎢           ⎥\n",
       "⎢   a⋅zd    ⎥\n",
       "⎢           ⎥\n",
       "⎢  a⋅h⋅zd   ⎥\n",
       "⎢           ⎥\n",
       "⎢a⋅thetad⋅zd⎥\n",
       "⎢           ⎥\n",
       "⎢       2   ⎥\n",
       "⎢   a⋅zd    ⎥\n",
       "⎢           ⎥\n",
       "⎢    a⋅z    ⎥\n",
       "⎢           ⎥\n",
       "⎢   a⋅h⋅z   ⎥\n",
       "⎢           ⎥\n",
       "⎢a⋅thetad⋅z ⎥\n",
       "⎢           ⎥\n",
       "⎣  a⋅z⋅zd   ⎦"
      ]
     },
     "metadata": {},
     "output_type": "display_data"
    },
    {
     "data": {
      "text/latex": [
       "$\\displaystyle \\left[\\begin{matrix}z\\\\zd\\\\thetad\\\\h\\end{matrix}\\right]$"
      ],
      "text/plain": [
       "⎡  z   ⎤\n",
       "⎢      ⎥\n",
       "⎢  zd  ⎥\n",
       "⎢      ⎥\n",
       "⎢thetad⎥\n",
       "⎢      ⎥\n",
       "⎣  h   ⎦"
      ]
     },
     "metadata": {},
     "output_type": "display_data"
    },
    {
     "data": {
      "text/latex": [
       "$\\displaystyle \\left[\\begin{matrix}1 & 0 & 0 & 0\\\\0 & 1 & 0 & 0\\\\0 & 0 & 1 & 0\\\\0 & 0 & 0 & 1\\\\0 & 0 & 0 & 0\\\\0 & 0 & 0 & a\\\\0 & 0 & 0 & 2 a h\\\\0 & 0 & a & 0\\\\0 & 0 & a h & a thetad\\\\0 & 0 & 2 a thetad & 0\\\\0 & a & 0 & 0\\\\0 & a h & 0 & a zd\\\\0 & a thetad & a zd & 0\\\\0 & 2 a zd & 0 & 0\\\\a & 0 & 0 & 0\\\\a h & 0 & 0 & a z\\\\a thetad & 0 & a z & 0\\\\a zd & a z & 0 & 0\\end{matrix}\\right]$"
      ],
      "text/plain": [
       "⎡   1         0          0          0    ⎤\n",
       "⎢                                        ⎥\n",
       "⎢   0         1          0          0    ⎥\n",
       "⎢                                        ⎥\n",
       "⎢   0         0          1          0    ⎥\n",
       "⎢                                        ⎥\n",
       "⎢   0         0          0          1    ⎥\n",
       "⎢                                        ⎥\n",
       "⎢   0         0          0          0    ⎥\n",
       "⎢                                        ⎥\n",
       "⎢   0         0          0          a    ⎥\n",
       "⎢                                        ⎥\n",
       "⎢   0         0          0        2⋅a⋅h  ⎥\n",
       "⎢                                        ⎥\n",
       "⎢   0         0          a          0    ⎥\n",
       "⎢                                        ⎥\n",
       "⎢   0         0         a⋅h      a⋅thetad⎥\n",
       "⎢                                        ⎥\n",
       "⎢   0         0      2⋅a⋅thetad     0    ⎥\n",
       "⎢                                        ⎥\n",
       "⎢   0         a          0          0    ⎥\n",
       "⎢                                        ⎥\n",
       "⎢   0        a⋅h         0         a⋅zd  ⎥\n",
       "⎢                                        ⎥\n",
       "⎢   0      a⋅thetad     a⋅zd        0    ⎥\n",
       "⎢                                        ⎥\n",
       "⎢   0       2⋅a⋅zd       0          0    ⎥\n",
       "⎢                                        ⎥\n",
       "⎢   a         0          0          0    ⎥\n",
       "⎢                                        ⎥\n",
       "⎢  a⋅h        0          0         a⋅z   ⎥\n",
       "⎢                                        ⎥\n",
       "⎢a⋅thetad     0         a⋅z         0    ⎥\n",
       "⎢                                        ⎥\n",
       "⎣  a⋅zd      a⋅z         0          0    ⎦"
      ]
     },
     "metadata": {},
     "output_type": "display_data"
    },
    {
     "data": {
      "text/latex": [
       "$\\displaystyle \\left[\\begin{matrix}0\\\\0\\\\0\\\\0\\\\1\\\\h\\\\h^{2}\\\\thetad\\\\h thetad\\\\thetad^{2}\\\\zd\\\\h zd\\\\thetad zd\\\\zd^{2}\\\\z\\\\h z\\\\thetad z\\\\z zd\\end{matrix}\\right]$"
      ],
      "text/plain": [
       "⎡    0    ⎤\n",
       "⎢         ⎥\n",
       "⎢    0    ⎥\n",
       "⎢         ⎥\n",
       "⎢    0    ⎥\n",
       "⎢         ⎥\n",
       "⎢    0    ⎥\n",
       "⎢         ⎥\n",
       "⎢    1    ⎥\n",
       "⎢         ⎥\n",
       "⎢    h    ⎥\n",
       "⎢         ⎥\n",
       "⎢    2    ⎥\n",
       "⎢   h     ⎥\n",
       "⎢         ⎥\n",
       "⎢ thetad  ⎥\n",
       "⎢         ⎥\n",
       "⎢h⋅thetad ⎥\n",
       "⎢         ⎥\n",
       "⎢       2 ⎥\n",
       "⎢ thetad  ⎥\n",
       "⎢         ⎥\n",
       "⎢   zd    ⎥\n",
       "⎢         ⎥\n",
       "⎢  h⋅zd   ⎥\n",
       "⎢         ⎥\n",
       "⎢thetad⋅zd⎥\n",
       "⎢         ⎥\n",
       "⎢     2   ⎥\n",
       "⎢   zd    ⎥\n",
       "⎢         ⎥\n",
       "⎢    z    ⎥\n",
       "⎢         ⎥\n",
       "⎢   h⋅z   ⎥\n",
       "⎢         ⎥\n",
       "⎢thetad⋅z ⎥\n",
       "⎢         ⎥\n",
       "⎣  z⋅zd   ⎦"
      ]
     },
     "metadata": {},
     "output_type": "display_data"
    }
   ],
   "source": [
    "z = Symbol('z')\n",
    "dz = Symbol('zd')\n",
    "rot = Symbol('thetad')\n",
    "drot = Symbol('h')\n",
    "action = Symbol('a')\n",
    "\n",
    "state = [z, dz, rot, drot]\n",
    "display(state)\n",
    "\n",
    "extra_basis = np.array([])\n",
    "\n",
    "\n",
    "for p in poly_basis:\n",
    "    curr_basis = (state[0]**p[0]) * (state[1]**p[1]) * (state[2]**p[2]) * (state[3]**p[3]) * action\n",
    "    extra_basis = np.append(extra_basis, curr_basis)\n",
    "    \n",
    "basis = np.hstack((state, extra_basis))\n",
    "\n",
    "\n",
    "\n",
    "basis_sp = sp.Matrix(basis)\n",
    "state_sp = sp.Matrix(state)\n",
    "display(basis_sp)\n",
    "display(state_sp)\n",
    "\n",
    "dbasis_dx = basis_sp.jacobian(state_sp)\n",
    "display(dbasis_dx)\n",
    "\n",
    "dbasis_du = basis_sp.jacobian(sp.Matrix([action]))\n",
    "display(dbasis_du)"
   ]
  },
  {
   "cell_type": "code",
   "execution_count": 53,
   "metadata": {},
   "outputs": [],
   "source": [
    "from sympy.printing import ccode\n",
    "def cpp_generator(mat, name, label):\n",
    "    update_cpp = '\\nvoid {0}::{1}_update()'.format(label, name) + '{'\n",
    "    for n in range(mat.shape[1]):\n",
    "        for m in range(mat.shape[0]):\n",
    "            expr = mat[m, n]\n",
    "            symbs = expr.free_symbols\n",
    "            c = ccode(expr)\n",
    "            update_cpp += '\\n{0}({1}, {2}) = {3};'.format(name, m, n, c)\n",
    "    update_cpp += '\\n};'\n",
    "    return update_cpp"
   ]
  },
  {
   "cell_type": "code",
   "execution_count": 54,
   "metadata": {},
   "outputs": [
    {
     "name": "stdout",
     "output_type": "stream",
     "text": [
      "\n",
      "void extra_basis::extra_basis_update(){\n",
      "extra_basis(0, 0) = z;\n",
      "extra_basis(1, 0) = zd;\n",
      "extra_basis(2, 0) = thetad;\n",
      "extra_basis(3, 0) = h;\n",
      "extra_basis(4, 0) = a;\n",
      "extra_basis(5, 0) = a*h;\n",
      "extra_basis(6, 0) = a*pow(h, 2);\n",
      "extra_basis(7, 0) = a*thetad;\n",
      "extra_basis(8, 0) = a*h*thetad;\n",
      "extra_basis(9, 0) = a*pow(thetad, 2);\n",
      "extra_basis(10, 0) = a*zd;\n",
      "extra_basis(11, 0) = a*h*zd;\n",
      "extra_basis(12, 0) = a*thetad*zd;\n",
      "extra_basis(13, 0) = a*pow(zd, 2);\n",
      "extra_basis(14, 0) = a*z;\n",
      "extra_basis(15, 0) = a*h*z;\n",
      "extra_basis(16, 0) = a*thetad*z;\n",
      "extra_basis(17, 0) = a*z*zd;\n",
      "};\n"
     ]
    }
   ],
   "source": [
    "\n",
    "mat = basis_sp\n",
    "name = 'extra_basis'\n",
    "code = cpp_generator(mat, name, name)    # Print C++ code\n",
    "print(code)"
   ]
  },
  {
   "cell_type": "code",
   "execution_count": 55,
   "metadata": {},
   "outputs": [
    {
     "name": "stdout",
     "output_type": "stream",
     "text": [
      "\n",
      "void dbdx::dbdx_update(){\n",
      "dbdx(0, 0) = 1;\n",
      "dbdx(1, 0) = 0;\n",
      "dbdx(2, 0) = 0;\n",
      "dbdx(3, 0) = 0;\n",
      "dbdx(4, 0) = 0;\n",
      "dbdx(5, 0) = 0;\n",
      "dbdx(6, 0) = 0;\n",
      "dbdx(7, 0) = 0;\n",
      "dbdx(8, 0) = 0;\n",
      "dbdx(9, 0) = 0;\n",
      "dbdx(10, 0) = 0;\n",
      "dbdx(11, 0) = 0;\n",
      "dbdx(12, 0) = 0;\n",
      "dbdx(13, 0) = 0;\n",
      "dbdx(14, 0) = a;\n",
      "dbdx(15, 0) = a*h;\n",
      "dbdx(16, 0) = a*thetad;\n",
      "dbdx(17, 0) = a*zd;\n",
      "dbdx(0, 1) = 0;\n",
      "dbdx(1, 1) = 1;\n",
      "dbdx(2, 1) = 0;\n",
      "dbdx(3, 1) = 0;\n",
      "dbdx(4, 1) = 0;\n",
      "dbdx(5, 1) = 0;\n",
      "dbdx(6, 1) = 0;\n",
      "dbdx(7, 1) = 0;\n",
      "dbdx(8, 1) = 0;\n",
      "dbdx(9, 1) = 0;\n",
      "dbdx(10, 1) = a;\n",
      "dbdx(11, 1) = a*h;\n",
      "dbdx(12, 1) = a*thetad;\n",
      "dbdx(13, 1) = 2*a*zd;\n",
      "dbdx(14, 1) = 0;\n",
      "dbdx(15, 1) = 0;\n",
      "dbdx(16, 1) = 0;\n",
      "dbdx(17, 1) = a*z;\n",
      "dbdx(0, 2) = 0;\n",
      "dbdx(1, 2) = 0;\n",
      "dbdx(2, 2) = 1;\n",
      "dbdx(3, 2) = 0;\n",
      "dbdx(4, 2) = 0;\n",
      "dbdx(5, 2) = 0;\n",
      "dbdx(6, 2) = 0;\n",
      "dbdx(7, 2) = a;\n",
      "dbdx(8, 2) = a*h;\n",
      "dbdx(9, 2) = 2*a*thetad;\n",
      "dbdx(10, 2) = 0;\n",
      "dbdx(11, 2) = 0;\n",
      "dbdx(12, 2) = a*zd;\n",
      "dbdx(13, 2) = 0;\n",
      "dbdx(14, 2) = 0;\n",
      "dbdx(15, 2) = 0;\n",
      "dbdx(16, 2) = a*z;\n",
      "dbdx(17, 2) = 0;\n",
      "dbdx(0, 3) = 0;\n",
      "dbdx(1, 3) = 0;\n",
      "dbdx(2, 3) = 0;\n",
      "dbdx(3, 3) = 1;\n",
      "dbdx(4, 3) = 0;\n",
      "dbdx(5, 3) = a;\n",
      "dbdx(6, 3) = 2*a*h;\n",
      "dbdx(7, 3) = 0;\n",
      "dbdx(8, 3) = a*thetad;\n",
      "dbdx(9, 3) = 0;\n",
      "dbdx(10, 3) = 0;\n",
      "dbdx(11, 3) = a*zd;\n",
      "dbdx(12, 3) = 0;\n",
      "dbdx(13, 3) = 0;\n",
      "dbdx(14, 3) = 0;\n",
      "dbdx(15, 3) = a*z;\n",
      "dbdx(16, 3) = 0;\n",
      "dbdx(17, 3) = 0;\n",
      "};\n"
     ]
    }
   ],
   "source": [
    "mat = dbasis_dx\n",
    "name = 'dbdx'\n",
    "code = cpp_generator(mat, name, name)    # Print C++ code\n",
    "print(code)"
   ]
  },
  {
   "cell_type": "code",
   "execution_count": null,
   "metadata": {},
   "outputs": [],
   "source": []
  }
 ],
 "metadata": {
  "kernelspec": {
   "display_name": "Python 3",
   "language": "python",
   "name": "python3"
  },
  "language_info": {
   "codemirror_mode": {
    "name": "ipython",
    "version": 3
   },
   "file_extension": ".py",
   "mimetype": "text/x-python",
   "name": "python",
   "nbconvert_exporter": "python",
   "pygments_lexer": "ipython3",
   "version": "3.8.10"
  }
 },
 "nbformat": 4,
 "nbformat_minor": 5
}
