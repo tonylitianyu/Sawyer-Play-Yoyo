{
 "cells": [
  {
   "cell_type": "code",
   "execution_count": 68,
   "id": "40bd9437",
   "metadata": {},
   "outputs": [],
   "source": [
    "import numpy as np\n",
    "import sympy as sp\n",
    "from sympy import symbols, Eq, solve, init_printing, simplify, Function, Matrix\n",
    "import time\n",
    "sp.init_printing()\n",
    "\n",
    "import kinpy as kp\n",
    "from kinpy import calc_jacobian"
   ]
  },
  {
   "cell_type": "code",
   "execution_count": 85,
   "id": "d10be567",
   "metadata": {},
   "outputs": [
    {
     "name": "stdout",
     "output_type": "stream",
     "text": [
      "base_frame\n",
      " \tcontroller_box_frame\n",
      " \tpedestal_feet_frame\n",
      " \tpedestal_frame\n",
      " \tright_arm_base_link_frame\n",
      " \t \tright_l0_frame\n",
      " \t \t \thead_frame\n",
      " \t \t \t \tscreen_frame\n",
      " \t \t \t \thead_camera_frame\n",
      " \t \t \tright_torso_itb_frame\n",
      " \t \t \tright_l1_frame\n",
      " \t \t \t \tright_l2_frame\n",
      " \t \t \t \t \tright_l3_frame\n",
      " \t \t \t \t \t \tright_l4_frame\n",
      " \t \t \t \t \t \t \tright_arm_itb_frame\n",
      " \t \t \t \t \t \t \tright_l5_frame\n",
      " \t \t \t \t \t \t \t \tright_hand_camera_frame\n",
      " \t \t \t \t \t \t \t \tright_wrist_frame\n",
      " \t \t \t \t \t \t \t \tright_l6_frame\n",
      " \t \t \t \t \t \t \t \t \tright_hand_frame\n",
      " \t \t \t \t \t \t \tright_l4_2_frame\n",
      " \t \t \t \t \tright_l2_2_frame\n",
      " \t \t \t \tright_l1_2_frame\n",
      " \ttorso_frame\n",
      "\n",
      "['right_j0', 'right_j1', 'right_j2', 'right_j3', 'right_j4', 'right_j5', 'right_j6']\n",
      "[[-1.60300000e-01  2.90000000e-01  3.22000000e-02 -1.10000000e-01\n",
      "  -6.67404410e-13 -1.10000000e-01  0.00000000e+00]\n",
      " [ 4.81000000e-01 -1.42002231e-12  4.00000000e-01  5.38678914e-13\n",
      "   1.10000000e-01  5.38644876e-13  0.00000000e+00]\n",
      " [ 2.40544368e-16 -4.00000000e-01 -1.80089963e-12 -4.00000000e-01\n",
      "   1.36300000e-01 -5.38622637e-13  0.00000000e+00]\n",
      " [ 9.63689374e-17  4.89655788e-12 -4.89631547e-12  4.89655788e-12\n",
      "   1.00000000e+00  4.89661339e-12 -7.34640616e-06]\n",
      " [-3.08548318e-16  1.00000000e+00  4.89655215e-12  1.00000000e+00\n",
      "  -1.24084080e-16  1.00000000e+00  4.82247224e-12]\n",
      " [ 1.00000000e+00  2.38068543e-16  1.00000000e+00  2.93579694e-16\n",
      "   4.89640290e-12  2.93579678e-16 -1.00000000e+00]]\n",
      "(7, 6)\n",
      "[-1.24500363e-02 -4.18203476e-03 -1.00287860e-02  4.18197849e-03\n",
      " -1.65138607e-07  5.62711133e-08 -2.24788222e-02]\n"
     ]
    }
   ],
   "source": [
    "chain = kp.build_serial_chain_from_urdf(open(\"sawyer.urdf\").read(), 'right_l6')\n",
    "print(chain)\n",
    "print(chain.get_joint_parameter_names())\n",
    "\n",
    "th = [0.0, np.deg2rad(-90), 0.0, np.deg2rad(90), 0.0, np.deg2rad(90), 0.0]\n",
    "jac = chain.jacobian(th)\n",
    "print(jac)\n",
    "inv_jac = np.linalg.pinv(jac)\n",
    "\n",
    "print(inv_jac.shape)\n",
    "\n",
    "joint_vel = inv_jac@np.array([0.0,-0.01,0.0,0.0,0.0,0.0]).reshape(-1,1)\n",
    "print(joint_vel.flatten())"
   ]
  },
  {
   "cell_type": "code",
   "execution_count": null,
   "id": "b7b749f1",
   "metadata": {},
   "outputs": [],
   "source": []
  },
  {
   "cell_type": "code",
   "execution_count": 58,
   "id": "d0577a8d",
   "metadata": {},
   "outputs": [],
   "source": [
    "# b = np.deg2rad(60)\n",
    "\n",
    "# total_length = 0.53375 + 0.4*np.cos(np.deg2rad(45))\n",
    "\n",
    "# a = -np.arccos((total_length - 0.53375*np.cos(np.deg2rad(45) - b))/(0.4))\n",
    "\n",
    "# print('a', np.rad2deg(a))\n",
    "\n",
    "# c = np.deg2rad(45) + b\n",
    "\n",
    "# print('c', np.rad2deg(c))"
   ]
  },
  {
   "cell_type": "code",
   "execution_count": 59,
   "id": "1839dc94",
   "metadata": {},
   "outputs": [],
   "source": [
    "\n",
    "# L1 = 0.4\n",
    "# L4 = (126.5 + 273.5)/1000\n",
    "\n",
    "\n",
    "# max_height = 0.4-0.13375\n",
    "# min_heigth = -(0.4+0.13375)\n",
    "\n",
    "\n",
    "# a, b, h, l, xc, yc = symbols('a b h l xc yc')\n",
    "# eqn1 = Eq(L1**2 + L4**2 - 2*L1*L4*sp.cos(b), xc**2 + yc**2)\n",
    "\n",
    "\n",
    "# eqn2 = Eq((xc**2 + yc**2)**2 + L1**2 - 2*(xc**2 + yc**2)*L1*sp.cos(a-sp.atan2(yc,xc)), L4**2)"
   ]
  },
  {
   "cell_type": "code",
   "execution_count": 60,
   "id": "35ea33de",
   "metadata": {},
   "outputs": [],
   "source": [
    "# sol_b = sol_b.subs(xc, 0.4)\n",
    "# sol_b\n",
    "\n",
    "# sol_a = sol_a.subs(xc, 0.4)\n",
    "# sol_a"
   ]
  },
  {
   "cell_type": "code",
   "execution_count": 61,
   "id": "fae03559",
   "metadata": {},
   "outputs": [],
   "source": [
    "# sol_b = sol_b.subs(yc, 0.4)\n",
    "# sol_b\n",
    "\n",
    "# sol_a = sol_a.subs(yc, 0.4)\n",
    "\n",
    "# print('a', 180 * sol_a / np.pi)\n",
    "# print('b', 180 * sol_b / np.pi)"
   ]
  },
  {
   "cell_type": "code",
   "execution_count": 62,
   "id": "3b3d2ddc",
   "metadata": {},
   "outputs": [],
   "source": [
    "# xc = 0.4\n",
    "# yc = 0.2\n",
    "\n",
    "# h_sq = (xc**2) + (yc**2)\n",
    "# b = np.arccos((h_sq - (L1**2) - (L4**2))/ (2*L1*L4))\n",
    "# print('b', 180 * b / np.pi)\n",
    "\n",
    "\n",
    "\n",
    "# a = -(np.arccos((L4**2 - h_sq - L1**2)/(-2*np.sqrt(h_sq)*L1)) + np.arctan2(yc,xc))\n",
    "# print('a', 180 * a / np.pi)\n",
    "\n",
    "\n",
    "# c = (-a) + np.deg2rad(90) - b\n",
    "# print('c', 180 * c / np.pi)"
   ]
  },
  {
   "cell_type": "code",
   "execution_count": null,
   "id": "0c1ae70d",
   "metadata": {},
   "outputs": [],
   "source": []
  },
  {
   "cell_type": "code",
   "execution_count": 63,
   "id": "fb5692ee",
   "metadata": {},
   "outputs": [
    {
     "name": "stdout",
     "output_type": "stream",
     "text": [
      "[[ 2.66250000e-01 -1.33750000e-01 -1.33750000e-01]\n",
      " [-4.00000000e-01 -4.00000000e-01 -8.18982547e-18]\n",
      " [-1.00000000e+00 -1.00000000e+00 -1.00000000e+00]]\n",
      "[[ 2.66250000e-01 -1.33750000e-01 -1.33750000e-01]\n",
      " [-4.00000000e-01 -4.00000000e-01 -8.18982547e-18]\n",
      " [-1.00000000e+00 -1.00000000e+00 -1.00000000e+00]]\n"
     ]
    }
   ],
   "source": [
    "# L1 = 0.4\n",
    "# L4 = (126.5 + 273.5)/1000\n",
    "# L6 = 0.13375\n",
    "\n",
    "\n",
    "L1,L4,L6, t, dxe, dye, dphie, da, db, dc = symbols('L1 L4 L6 t dxe dye dphie da db dc')\n",
    "a = Function('a')\n",
    "b = Function('b')\n",
    "c = Function('c')\n",
    "xe = Function('xe')\n",
    "ye = Function('ye')\n",
    "phie = Function('phie')\n",
    "\n",
    "eqnx = L1*sp.cos(-a(t)) + L4*sp.cos(-a(t)-b(t)) + L6*sp.cos(-a(t)-b(t)-c(t))\n",
    "eqny = L1*sp.sin(-a(t)) + L4*sp.sin(-a(t)-b(t)) + L6*sp.sin(-a(t)-b(t)-c(t))\n",
    "eqnphi = -a(t)-b(t)-c(t)\n",
    "\n",
    "diff_eqnx = sp.diff(eqnx, t).simplify()\n",
    "\n",
    "\n",
    "diff_eqny = sp.diff(eqny, t).simplify()\n",
    "\n",
    "\n",
    "\n",
    "diff_eqnphi = sp.diff(eqnphi, t).simplify()\n",
    "\n",
    "\n",
    "eqnx_lin = Eq(diff_eqnx, dxe)\n",
    "eqny_lin = Eq(diff_eqny, dye)\n",
    "eqnphi_lin = Eq(diff_eqnphi, dphie)\n",
    "\n",
    "eqnx_lin = eqnx_lin.subs([(sp.diff(a(t),t), da), (sp.diff(b(t),t), db), (sp.diff(c(t),t), dc)])\n",
    "eqny_lin = eqny_lin.subs([(sp.diff(a(t),t), da), (sp.diff(b(t),t), db), (sp.diff(c(t),t), dc)])\n",
    "eqnphi_lin = eqnphi_lin.subs([(sp.diff(a(t),t), da), (sp.diff(b(t),t), db), (sp.diff(c(t),t), dc)])\n",
    "\n",
    "jac, ee_vel = sp.linear_eq_to_matrix([eqnx_lin, eqny_lin, eqnphi_lin], [da, db, dc])\n",
    "\n",
    "jac = Matrix(jac)\n",
    "\n",
    "jac_sub = sp.lambdify([L1,L4,L6,a(t), b(t), c(t)], jac)\n",
    "print(jac_sub(0.4,0.4,0.13375,np.deg2rad(-90),np.deg2rad(90),np.deg2rad(90)))"
   ]
  },
  {
   "cell_type": "code",
   "execution_count": 64,
   "id": "e2d12ed1",
   "metadata": {},
   "outputs": [
    {
     "name": "stdout",
     "output_type": "stream",
     "text": [
      "1.66 ms ± 26.4 µs per loop (mean ± std. dev. of 7 runs, 1000 loops each)\n",
      "[[ 6.8140307e-16]\n",
      " [ 1.2500000e+00]\n",
      " [-1.2500000e+00]]\n",
      "13.99718451499939\n"
     ]
    }
   ],
   "source": [
    "import jax.numpy as np\n",
    "from jax import jit, device_put\n",
    "\n",
    "\n",
    "jac_sub = device_put(jac_sub)\n",
    "#start = time.time()\n",
    "\n",
    "inv_jac = np.linalg.pinv(jac_sub)\n",
    "\n",
    "#end = time.time() - start\n",
    "\n",
    "ee_vel_val = np.array([0.0, -0.5, 0.0]).reshape(-1,1)\n",
    "\n",
    "joint_vel_val = inv_jac@ee_vel_val\n",
    "print(joint_vel_val)\n",
    "print(end)"
   ]
  },
  {
   "cell_type": "code",
   "execution_count": 65,
   "id": "0ab12b1d",
   "metadata": {},
   "outputs": [
    {
     "data": {
      "image/png": "[encoded data removed]",
      "text/plain": [
       "<Figure size 432x288 with 1 Axes>"
      ]
     },
     "metadata": {
      "needs_background": "light"
     },
     "output_type": "display_data"
    }
   ],
   "source": [
    "import matplotlib.pyplot as plt\n",
    "def plot_arm(a_deg,b_deg,c_deg, l1,l4,l6):\n",
    "    l1x = l1*np.cos(-a_deg)\n",
    "    l1y = l1*np.sin(-a_deg)\n",
    "    plt.plot([0,l1x],[0,l1y])\n",
    "    \n",
    "    l4x = l1*np.cos(-a_deg)+l4*np.cos(-a_deg - b_deg)\n",
    "    l4y = l1*np.sin(-a_deg)+l4*np.sin(-a_deg - b_deg)\n",
    "    plt.plot([l1x,l4x],[l1y,l4y], color='red')\n",
    "    \n",
    "    xe_val = l1*np.cos(-a_deg)+l4*np.cos(-a_deg - b_deg)+l6*np.cos(-a_deg-b_deg-c_deg)\n",
    "    ye_val = l1*np.sin(-a_deg)+l4*np.sin(-a_deg - b_deg)+l6*np.sin(-a_deg-b_deg-c_deg)\n",
    "    plt.plot([l4x,xe_val],[l4y,ye_val], color='green')\n",
    "    \n",
    "    plt.ylim([-0.2,1.0])\n",
    "    plt.xlim([-0.2,1.0])\n",
    "    plt.show()\n",
    "    \n",
    "    \n",
    "plot_arm(np.deg2rad(-90), np.deg2rad(90), np.deg2rad(90), 0.4, 0.4, 0.13375)\n",
    "    "
   ]
  },
  {
   "cell_type": "code",
   "execution_count": null,
   "id": "45c7127a",
   "metadata": {},
   "outputs": [],
   "source": [
    "\n",
    "\n"
   ]
  }
 ],
 "metadata": {
  "kernelspec": {
   "display_name": "Python 3",
   "language": "python",
   "name": "python3"
  },
  "language_info": {
   "codemirror_mode": {
    "name": "ipython",
    "version": 3
   },
   "file_extension": ".py",
   "mimetype": "text/x-python",
   "name": "python",
   "nbconvert_exporter": "python",
   "pygments_lexer": "ipython3",
   "version": "3.8.10"
  }
 },
 "nbformat": 4,
 "nbformat_minor": 5
}
